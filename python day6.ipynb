{
 "cells": [
  {
   "cell_type": "code",
   "execution_count": 2,
   "id": "44787d12",
   "metadata": {},
   "outputs": [
    {
     "name": "stdout",
     "output_type": "stream",
     "text": [
      "Mike\n",
      "Mike is studying\n"
     ]
    }
   ],
   "source": [
    "class Student:\n",
    "    name=\"Mike\"\n",
    "    roll=1001\n",
    "    def study(self):\n",
    "        print(f\"{self.name} is studying\")\n",
    "\n",
    "var1=Student()\n",
    "print(var1.name)\n",
    "var1.study()"
   ]
  },
  {
   "cell_type": "code",
   "execution_count": 3,
   "id": "db202e33",
   "metadata": {},
   "outputs": [
    {
     "name": "stdout",
     "output_type": "stream",
     "text": [
      "constructor is executed\n",
      "Mike\n",
      "Mike is studying\n"
     ]
    }
   ],
   "source": [
    "class Student:\n",
    "    name=\"Mike\"\n",
    "    roll=1001\n",
    "    def __init__(self):\n",
    "        print(\"constructor is executed\")\n",
    "    \n",
    "    def study(self):\n",
    "        print(f\"{self.name} is studying\")\n",
    "\n",
    "var1=Student()\n",
    "print(var1.name)\n",
    "var1.study()"
   ]
  },
  {
   "cell_type": "code",
   "execution_count": null,
   "id": "5a7b164d",
   "metadata": {},
   "outputs": [],
   "source": []
  }
 ],
 "metadata": {
  "kernelspec": {
   "display_name": "Python 3 (ipykernel)",
   "language": "python",
   "name": "python3"
  },
  "language_info": {
   "codemirror_mode": {
    "name": "ipython",
    "version": 3
   },
   "file_extension": ".py",
   "mimetype": "text/x-python",
   "name": "python",
   "nbconvert_exporter": "python",
   "pygments_lexer": "ipython3",
   "version": "3.9.13"
  }
 },
 "nbformat": 4,
 "nbformat_minor": 5
}
