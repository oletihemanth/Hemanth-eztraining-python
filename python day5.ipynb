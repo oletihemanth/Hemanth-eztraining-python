{
 "cells": [
  {
   "cell_type": "code",
   "execution_count": 1,
   "id": "9ef6c137",
   "metadata": {},
   "outputs": [
    {
     "name": "stdout",
     "output_type": "stream",
     "text": [
      "hello world\n"
     ]
    }
   ],
   "source": [
    "print(\"hello world\")\n",
    "def function(name):\n",
    "    print(name)"
   ]
  },
  {
   "cell_type": "code",
   "execution_count": 2,
   "id": "00bb7431",
   "metadata": {},
   "outputs": [
    {
     "name": "stdout",
     "output_type": "stream",
     "text": [
      "{1, 2, 3}\n"
     ]
    }
   ],
   "source": [
    "arr=[1,2,3,1,2,3,1,2,3]\n",
    "print(set(arr))"
   ]
  },
  {
   "cell_type": "code",
   "execution_count": 9,
   "id": "51d5d365",
   "metadata": {},
   "outputs": [
    {
     "name": "stdout",
     "output_type": "stream",
     "text": [
      "dict_keys(['name', 'age', 'year', 'section'])\n",
      "dict_values(['student', 19, 3, 'ece'])\n",
      "dict_items([('name', 'student'), ('age', 19), ('year', 3), ('section', 'ece')])\n"
     ]
    }
   ],
   "source": [
    "student={\n",
    "    \"name\":\"student\",\n",
    "    \"age\":19,\n",
    "    \"year\":3,\n",
    "    \"section\":\"ece\",\n",
    "}\n",
    "print(student.keys())\n",
    "print(student.values())\n",
    "print(student.items())\n"
   ]
  },
  {
   "cell_type": "code",
   "execution_count": 10,
   "id": "f67466b4",
   "metadata": {},
   "outputs": [
    {
     "name": "stdout",
     "output_type": "stream",
     "text": [
      "student\n",
      "19\n",
      "3\n"
     ]
    }
   ],
   "source": [
    "student={\n",
    "    \"name\":\"student\",\n",
    "    \"age\":19,\n",
    "    \"year\":3,\n",
    "    \"section\":\"ece\",\n",
    "}\n",
    "print(student['name'])\n",
    "print(student['age'])\n",
    "print(student['year'])\n"
   ]
  },
  {
   "cell_type": "code",
   "execution_count": 17,
   "id": "282e8770",
   "metadata": {},
   "outputs": [
    {
     "name": "stdout",
     "output_type": "stream",
     "text": [
      "username is correct\n"
     ]
    }
   ],
   "source": [
    "student={\n",
    "    \"username\":\"hemant_24\",\n",
    "    \"password\":\"123456\",\n",
    "}\n",
    "if student==student:\n",
    "    {\n",
    "    print(\"username is correct\")\n",
    "   }\n",
    "else:\n",
    "    {\n",
    "    print(\"username is incorrect\")\n",
    "}"
   ]
  },
  {
   "cell_type": "code",
   "execution_count": 41,
   "id": "34f7ad8a",
   "metadata": {},
   "outputs": [
    {
     "name": "stdout",
     "output_type": "stream",
     "text": [
      "200\n"
     ]
    }
   ],
   "source": [
    "def fun_name(num1,num2,op):\n",
    "    if op==\"+\":\n",
    "       print(num1+num2)\n",
    "    elif op==\"-\":\n",
    "       print(num1-num2)\n",
    "    elif op==\"*\":\n",
    "       print(num1*num2)\n",
    "    \n",
    "fun_name(10,20,\"*\")"
   ]
  },
  {
   "cell_type": "code",
   "execution_count": 46,
   "id": "99f59071",
   "metadata": {},
   "outputs": [],
   "source": [
    "def fun_name(arr):\n",
    "    sum=0\n",
    "    for i in range(len(arr)):\n",
    "        sum=sum+arr[i]\n",
    "    return sum\n",
    "arr=[1,2,3,4,5]\n",
    "ans=fun_name(arr)"
   ]
  },
  {
   "cell_type": "markdown",
   "id": "6d364cb6",
   "metadata": {},
   "source": [
    "1.REGULAR FUNCTIONS\n",
    "2.DEFAULT VALUE FUNCTIONS\n",
    "3.KEYWORD ARGUMENT FUNCTION\n",
    "4.VARIABLE LENGTH FUNCTIONS"
   ]
  },
  {
   "cell_type": "code",
   "execution_count": 47,
   "id": "640752a7",
   "metadata": {},
   "outputs": [
    {
     "name": "stdout",
     "output_type": "stream",
     "text": [
      "20\n",
      "30\n",
      "40\n"
     ]
    }
   ],
   "source": [
    "def hello(a=20,b=30,c=40):\n",
    "    print(a)\n",
    "    print(b)\n",
    "    print(c)\n",
    "hello()"
   ]
  },
  {
   "cell_type": "code",
   "execution_count": 48,
   "id": "4854ff0c",
   "metadata": {},
   "outputs": [
    {
     "name": "stdout",
     "output_type": "stream",
     "text": [
      "10\n",
      "40\n",
      "20\n"
     ]
    }
   ],
   "source": [
    "def hello(a,b,c):\n",
    "    print(a)\n",
    "    print(b)\n",
    "    print(c)\n",
    "hello(a=10,c=20,b=40)"
   ]
  },
  {
   "cell_type": "code",
   "execution_count": null,
   "id": "5c2a50eb",
   "metadata": {},
   "outputs": [],
   "source": []
  }
 ],
 "metadata": {
  "kernelspec": {
   "display_name": "Python 3 (ipykernel)",
   "language": "python",
   "name": "python3"
  },
  "language_info": {
   "codemirror_mode": {
    "name": "ipython",
    "version": 3
   },
   "file_extension": ".py",
   "mimetype": "text/x-python",
   "name": "python",
   "nbconvert_exporter": "python",
   "pygments_lexer": "ipython3",
   "version": "3.9.13"
  }
 },
 "nbformat": 4,
 "nbformat_minor": 5
}
