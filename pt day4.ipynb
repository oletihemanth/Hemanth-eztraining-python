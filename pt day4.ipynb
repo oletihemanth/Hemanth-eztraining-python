{
 "cells": [
  {
   "cell_type": "code",
   "execution_count": 1,
   "id": "0becb762",
   "metadata": {},
   "outputs": [
    {
     "name": "stdout",
     "output_type": "stream",
     "text": [
      "[1, 2, 3, 4, 5, 100, 7, 8, 9, 10]\n",
      "[1, 2, 3, 4, 5, 100, 7, 8, 9, 10, 200]\n"
     ]
    }
   ],
   "source": [
    "list=[1,2,3,4,5,6,7,8,9,10]\n",
    "list[5]=100\n",
    "print(list)\n",
    "list.append(200)\n",
    "print(list)"
   ]
  },
  {
   "cell_type": "code",
   "execution_count": 2,
   "id": "117c0adc",
   "metadata": {},
   "outputs": [
    {
     "name": "stdout",
     "output_type": "stream",
     "text": [
      "Aate Bate Cate Date Eate Fate Gate "
     ]
    }
   ],
   "source": [
    "str1='ABCDEFG'\n",
    "str2='ate'\n",
    "for i in str1:\n",
    "    print(i+str2,end=\" \")\n"
   ]
  },
  {
   "cell_type": "code",
   "execution_count": 3,
   "id": "c8689f83",
   "metadata": {},
   "outputs": [
    {
     "name": "stdout",
     "output_type": "stream",
     "text": [
      "[1, 'r']\n",
      "[2, 'r']\n",
      "[3, 'r']\n",
      "[4, 'r']\n"
     ]
    }
   ],
   "source": [
    "list1=[1,2,3,4]\n",
    "list2=['r']\n",
    "for i in list1:\n",
    "    print([i]+list2)\n"
   ]
  },
  {
   "cell_type": "markdown",
   "id": "17dda636",
   "metadata": {},
   "source": [
    "# * WRITE A PROGRAM TO EVALUATE LIST OF A CUBES TILL THE RANGE OF 10"
   ]
  },
  {
   "cell_type": "code",
   "execution_count": 4,
   "id": "52b7c0e5",
   "metadata": {},
   "outputs": [
    {
     "name": "stdout",
     "output_type": "stream",
     "text": [
      "[0, 1, 8, 27, 64, 125, 216, 343, 512, 729, 1000]\n"
     ]
    }
   ],
   "source": [
    "L=[]\n",
    "for i in range(11):\n",
    "    L.append(i**3)\n",
    "print(L)"
   ]
  },
  {
   "cell_type": "code",
   "execution_count": 5,
   "id": "96f9956e",
   "metadata": {},
   "outputs": [],
   "source": [
    "l=[x**i for x in range(11)]"
   ]
  },
  {
   "cell_type": "code",
   "execution_count": 6,
   "id": "5cf0fef1",
   "metadata": {},
   "outputs": [
    {
     "data": {
      "text/plain": [
       "[0,\n",
       " 1,\n",
       " 1024,\n",
       " 59049,\n",
       " 1048576,\n",
       " 9765625,\n",
       " 60466176,\n",
       " 282475249,\n",
       " 1073741824,\n",
       " 3486784401,\n",
       " 10000000000]"
      ]
     },
     "execution_count": 6,
     "metadata": {},
     "output_type": "execute_result"
    }
   ],
   "source": [
    "l"
   ]
  },
  {
   "cell_type": "markdown",
   "id": "261fb068",
   "metadata": {},
   "source": [
    "# To find the sum and mean from 0 to 10"
   ]
  },
  {
   "cell_type": "code",
   "execution_count": 8,
   "id": "85267527",
   "metadata": {},
   "outputs": [
    {
     "name": "stdout",
     "output_type": "stream",
     "text": [
      "55\n",
      "5.5\n"
     ]
    }
   ],
   "source": [
    "abc=[1,2,3,4,5,6,7,8,9,10]\n",
    "s=0\n",
    "for i in abc:\n",
    "    s+=i\n",
    "print(s)\n",
    "print(s/len(abc))"
   ]
  },
  {
   "cell_type": "code",
   "execution_count": 9,
   "id": "eaa21f59",
   "metadata": {},
   "outputs": [
    {
     "name": "stdout",
     "output_type": "stream",
     "text": [
      "90\n"
     ]
    }
   ],
   "source": [
    "print(max([90,0,88]))"
   ]
  },
  {
   "cell_type": "code",
   "execution_count": 10,
   "id": "0be7afd3",
   "metadata": {},
   "outputs": [
    {
     "name": "stdout",
     "output_type": "stream",
     "text": [
      "9836467\n"
     ]
    }
   ],
   "source": [
    "a=[29,3887,74656,9836467]\n",
    "print(max(a))"
   ]
  },
  {
   "cell_type": "code",
   "execution_count": 11,
   "id": "8494aaaa",
   "metadata": {},
   "outputs": [
    {
     "name": "stdout",
     "output_type": "stream",
     "text": [
      "29\n"
     ]
    }
   ],
   "source": [
    "b=[2,94,0,7568,89]\n",
    "print(min(a))"
   ]
  },
  {
   "cell_type": "code",
   "execution_count": 12,
   "id": "19b69182",
   "metadata": {},
   "outputs": [
    {
     "name": "stdout",
     "output_type": "stream",
     "text": [
      "37\n"
     ]
    }
   ],
   "source": [
    "a=[1,23,4,9]\n",
    "print(sum(a))"
   ]
  },
  {
   "cell_type": "code",
   "execution_count": 15,
   "id": "acd9a922",
   "metadata": {},
   "outputs": [
    {
     "name": "stdout",
     "output_type": "stream",
     "text": [
      "[0, -99, 99, 231, 86] [-99, 0, 86, 99, 231]\n"
     ]
    }
   ],
   "source": [
    "ab=[-0,-99,99,231,86]\n",
    "x=sorted(ab)\n",
    "print(ab,x)"
   ]
  },
  {
   "cell_type": "code",
   "execution_count": 16,
   "id": "24582184",
   "metadata": {},
   "outputs": [
    {
     "name": "stdout",
     "output_type": "stream",
     "text": [
      "[0, -99, 99, 231, 86, 10]\n"
     ]
    }
   ],
   "source": [
    "ab=[0,-99,99,231,86]\n",
    "ab.append(10)\n",
    "print(ab)"
   ]
  },
  {
   "cell_type": "code",
   "execution_count": 20,
   "id": "e6518ebf",
   "metadata": {},
   "outputs": [
    {
     "name": "stdout",
     "output_type": "stream",
     "text": [
      "[6, 3, 7, 100, 0, 3, 7, 6, 0]\n"
     ]
    }
   ],
   "source": [
    "ab=[6,3,7,0,3,7,6,0]\n",
    "ab.insert(3,100)\n",
    "print(ab)"
   ]
  },
  {
   "cell_type": "code",
   "execution_count": 24,
   "id": "d35655df",
   "metadata": {},
   "outputs": [
    {
     "name": "stdout",
     "output_type": "stream",
     "text": [
      "[6, 3, 7, 3, 7, 6, 0]\n"
     ]
    }
   ],
   "source": [
    "ab=[6,3,7,0,3,7,6,0]\n",
    "ab.remove(0)\n",
    "print(ab)"
   ]
  },
  {
   "cell_type": "code",
   "execution_count": 1,
   "id": "7cc63d67",
   "metadata": {},
   "outputs": [
    {
     "name": "stdout",
     "output_type": "stream",
     "text": [
      "[1, 2, 3, 4, <built-in method pop of list object at 0x000001FDC7224840>, <built-in method pop of list object at 0x000001FDC7224080>, <built-in method pop of list object at 0x000001FDC7224840>] [<built-in method pop of list object at 0x000001FDC7224140>, <built-in method pop of list object at 0x000001FDC7224140>, <built-in method pop of list object at 0x000001FDC7224840>, <built-in method pop of list object at 0x000001FDC7224140>, <built-in method pop of list object at 0x000001FDC7224140>] [<built-in method pop of list object at 0x000001FDC7224140>, <built-in method pop of list object at 0x000001FDC7224080>, <built-in method pop of list object at 0x000001FDC7224140>, <built-in method pop of list object at 0x000001FDC7224080>, <built-in method pop of list object at 0x000001FDC7224080>, <built-in method pop of list object at 0x000001FDC7224140>, <built-in method pop of list object at 0x000001FDC7224080>]\n"
     ]
    }
   ],
   "source": [
    "def hanoi(n,a,b,c):\n",
    "    if n>0:\n",
    "        hanoi(n-1,a,c,b)\n",
    "        if a:\n",
    "            c.append(a.pop)\n",
    "        hanoi(n-1,b,a,c)\n",
    "a=[1,2,3,4]\n",
    "b=[]\n",
    "c=[]\n",
    "hanoi(len(a),a,b,c)\n",
    "print(a,b,c)"
   ]
  },
  {
   "cell_type": "code",
   "execution_count": 3,
   "id": "c75689f4",
   "metadata": {},
   "outputs": [
    {
     "name": "stdout",
     "output_type": "stream",
     "text": [
      "55\n"
     ]
    }
   ],
   "source": [
    "num=[1,2,3,4,5,6,7,8,9,10]\n",
    "print(sum(num))"
   ]
  },
  {
   "cell_type": "code",
   "execution_count": 4,
   "id": "f40fed31",
   "metadata": {},
   "outputs": [
    {
     "name": "stdout",
     "output_type": "stream",
     "text": [
      "[10, 9, 8, 7, 6, 5, 4, 3, 2, 1]\n"
     ]
    }
   ],
   "source": [
    "num=[1,2,3,4,5,6,7,8,9,10]\n",
    "num.reverse()\n",
    "print(num)"
   ]
  },
  {
   "cell_type": "code",
   "execution_count": 5,
   "id": "117abb3b",
   "metadata": {},
   "outputs": [
    {
     "name": "stdout",
     "output_type": "stream",
     "text": [
      "[5, 8, 2, -9, -1, 10]\n"
     ]
    }
   ],
   "source": [
    "num=[10,-1,-9,2,8,5]\n",
    "num.reverse()\n",
    "print(num)"
   ]
  },
  {
   "cell_type": "code",
   "execution_count": 6,
   "id": "6d0d9574",
   "metadata": {},
   "outputs": [
    {
     "name": "stdout",
     "output_type": "stream",
     "text": [
      "[-9, -1, 2, 5, 8, 10]\n"
     ]
    }
   ],
   "source": [
    "num=[10,-1,-9,2,8,5]\n",
    "num.sort()\n",
    "print(num)"
   ]
  },
  {
   "cell_type": "code",
   "execution_count": 7,
   "id": "e5952eeb",
   "metadata": {},
   "outputs": [
    {
     "name": "stdout",
     "output_type": "stream",
     "text": [
      "['1', '2', 'B', 'Def', 'a', 'abc']\n"
     ]
    }
   ],
   "source": [
    "num=['1','a','abc','2','B','Def']\n",
    "num.sort()\n",
    "print(num)"
   ]
  },
  {
   "cell_type": "code",
   "execution_count": 9,
   "id": "3ca649e5",
   "metadata": {},
   "outputs": [
    {
     "name": "stdout",
     "output_type": "stream",
     "text": [
      "[0, 1, 8, 27, 64, 125, 216, 343, 512, 729, 1000]\n"
     ]
    }
   ],
   "source": [
    "cubes=[]\n",
    "for i in range(11):\n",
    "    cubes.append(i**3)\n",
    "print(cubes)"
   ]
  },
  {
   "cell_type": "code",
   "execution_count": 10,
   "id": "c6694df5",
   "metadata": {},
   "outputs": [],
   "source": [
    "cubes=[i**3 for i in range(11)];"
   ]
  },
  {
   "cell_type": "code",
   "execution_count": 11,
   "id": "69333dea",
   "metadata": {},
   "outputs": [
    {
     "data": {
      "text/plain": [
       "[0, 1, 8, 27, 64, 125, 216, 343, 512, 729, 1000]"
      ]
     },
     "execution_count": 11,
     "metadata": {},
     "output_type": "execute_result"
    }
   ],
   "source": [
    "cubes"
   ]
  },
  {
   "cell_type": "code",
   "execution_count": 12,
   "id": "c9906eb8",
   "metadata": {},
   "outputs": [
    {
     "ename": "TypeError",
     "evalue": "'str' object is not an iterator",
     "output_type": "error",
     "traceback": [
      "\u001b[1;31m---------------------------------------------------------------------------\u001b[0m",
      "\u001b[1;31mTypeError\u001b[0m                                 Traceback (most recent call last)",
      "\u001b[1;32m~\\AppData\\Local\\Temp\\ipykernel_15676\\2277751381.py\u001b[0m in \u001b[0;36m<module>\u001b[1;34m\u001b[0m\n\u001b[0;32m      2\u001b[0m \u001b[0mit\u001b[0m\u001b[1;33m=\u001b[0m\u001b[0miter\u001b[0m\u001b[1;33m(\u001b[0m\u001b[0mnum\u001b[0m\u001b[1;33m)\u001b[0m\u001b[1;33m\u001b[0m\u001b[1;33m\u001b[0m\u001b[0m\n\u001b[0;32m      3\u001b[0m \u001b[1;32mfor\u001b[0m \u001b[0mi\u001b[0m \u001b[1;32min\u001b[0m \u001b[0mrange\u001b[0m\u001b[1;33m(\u001b[0m\u001b[0mlen\u001b[0m\u001b[1;33m(\u001b[0m\u001b[0mnum\u001b[0m\u001b[1;33m)\u001b[0m\u001b[1;33m)\u001b[0m\u001b[1;33m:\u001b[0m\u001b[1;33m\u001b[0m\u001b[1;33m\u001b[0m\u001b[0m\n\u001b[1;32m----> 4\u001b[1;33m     \u001b[0mprint\u001b[0m\u001b[1;33m(\u001b[0m\u001b[1;34m\"element at index\"\u001b[0m\u001b[1;33m,\u001b[0m\u001b[0mi\u001b[0m\u001b[1;33m,\u001b[0m\u001b[1;34m\"is:\"\u001b[0m\u001b[1;33m,\u001b[0m\u001b[0mnext\u001b[0m\u001b[1;33m(\u001b[0m\u001b[1;34m\"it\"\u001b[0m\u001b[1;33m)\u001b[0m\u001b[1;33m)\u001b[0m\u001b[1;33m\u001b[0m\u001b[1;33m\u001b[0m\u001b[0m\n\u001b[0m",
      "\u001b[1;31mTypeError\u001b[0m: 'str' object is not an iterator"
     ]
    }
   ],
   "source": [
    "num=[1,2,3,4]\n",
    "it=iter(num)\n",
    "for i in range(len(num)):\n",
    "    print(\"element at index\",i,\"is:\",next(\"it\"))"
   ]
  },
  {
   "cell_type": "code",
   "execution_count": 18,
   "id": "2665ad5f",
   "metadata": {},
   "outputs": [
    {
     "name": "stdout",
     "output_type": "stream",
     "text": [
      "3000\n",
      "TIME ESTIMATED:45 minutes\n"
     ]
    }
   ],
   "source": [
    "n=int(input())\n",
    "if n==0:\n",
    "    print(\"TIME ESTIMATED:0 minutes\")\n",
    "elif n<=2000:\n",
    "    print(\"TIME ESTIMATED:25 minutes\")\n",
    "elif n<=4000:\n",
    "    print(\"TIME ESTIMATED:45 minutes\")\n",
    "elif n<=6000:\n",
    "    print(\"TIME ESTIMATED:65 minutes\")"
   ]
  },
  {
   "cell_type": "code",
   "execution_count": null,
   "id": "138f821f",
   "metadata": {},
   "outputs": [],
   "source": [
    "n=1,2,3,4,............n\n"
   ]
  }
 ],
 "metadata": {
  "kernelspec": {
   "display_name": "Python 3 (ipykernel)",
   "language": "python",
   "name": "python3"
  },
  "language_info": {
   "codemirror_mode": {
    "name": "ipython",
    "version": 3
   },
   "file_extension": ".py",
   "mimetype": "text/x-python",
   "name": "python",
   "nbconvert_exporter": "python",
   "pygments_lexer": "ipython3",
   "version": "3.9.13"
  }
 },
 "nbformat": 4,
 "nbformat_minor": 5
}
